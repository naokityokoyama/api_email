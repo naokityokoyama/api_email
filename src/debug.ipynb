{
 "cells": [
  {
   "cell_type": "code",
   "execution_count": 3,
   "metadata": {},
   "outputs": [],
   "source": [
    "import os \n",
    "from executer import Exec\n",
    "import pandas as pd\n",
    "import json\n",
    "\n"
   ]
  },
  {
   "cell_type": "code",
   "execution_count": null,
   "metadata": {
    "vscode": {
     "languageId": "latex"
    }
   },
   "outputs": [],
   "source": [
    "ligar o agent\n",
    "python agente.py ../output/"
   ]
  },
  {
   "cell_type": "code",
   "execution_count": 4,
   "metadata": {},
   "outputs": [
    {
     "name": "stdout",
     "output_type": "stream",
     "text": [
      "  CurrentState                        Description  ...       packets  unique_src_ip\n",
      "0        clear  Alarm for teste valid email Clear  ...  283667.65625             89\n",
      "\n",
      "[1 rows x 21 columns]\n"
     ]
    },
    {
     "data": {
      "text/plain": [
       "0"
      ]
     },
     "execution_count": 4,
     "metadata": {},
     "output_type": "execute_result"
    }
   ],
   "source": [
    "os.system('python3 main.py  \"../output/api_2023-10-27 02:13:44 copy.json\"')"
   ]
  },
  {
   "cell_type": "code",
   "execution_count": 9,
   "metadata": {},
   "outputs": [],
   "source": [
    "path = '../output/api_2023-10-27 02:13:44 copy.json'\n",
    "with open(path, 'r') as f:\n",
    "    data = json.load(f)"
   ]
  },
  {
   "cell_type": "code",
   "execution_count": 5,
   "metadata": {},
   "outputs": [
    {
     "data": {
      "text/html": [
       "<div>\n",
       "<style scoped>\n",
       "    .dataframe tbody tr th:only-of-type {\n",
       "        vertical-align: middle;\n",
       "    }\n",
       "\n",
       "    .dataframe tbody tr th {\n",
       "        vertical-align: top;\n",
       "    }\n",
       "\n",
       "    .dataframe thead th {\n",
       "        text-align: right;\n",
       "    }\n",
       "</style>\n",
       "<table border=\"1\" class=\"dataframe\">\n",
       "  <thead>\n",
       "    <tr style=\"text-align: right;\">\n",
       "      <th></th>\n",
       "      <th>Unnamed: 0</th>\n",
       "      <th>CurrentState</th>\n",
       "      <th>Description</th>\n",
       "      <th>EndTime</th>\n",
       "      <th>IsActive</th>\n",
       "      <th>PreviousState</th>\n",
       "      <th>StartTime</th>\n",
       "      <th>Type</th>\n",
       "      <th>AlarmID</th>\n",
       "      <th>AlarmPolicyID</th>\n",
       "      <th>...</th>\n",
       "      <th>AlarmPolicyName</th>\n",
       "      <th>AlarmSeverity</th>\n",
       "      <th>AlarmThresholdID</th>\n",
       "      <th>AlertingSearchURL</th>\n",
       "      <th>DashboardAlarmURL</th>\n",
       "      <th>DetailsAlarmURL</th>\n",
       "      <th>IP_dst</th>\n",
       "      <th>bits</th>\n",
       "      <th>packets</th>\n",
       "      <th>unique_src_ip</th>\n",
       "    </tr>\n",
       "  </thead>\n",
       "  <tbody>\n",
       "    <tr>\n",
       "      <th>0</th>\n",
       "      <td>0</td>\n",
       "      <td>clear</td>\n",
       "      <td>Alarm for teste valid email Clear</td>\n",
       "      <td>2023-10-27 02:13:41 UTC</td>\n",
       "      <td>False</td>\n",
       "      <td>alarm</td>\n",
       "      <td>2023-10-26 22:53:41 UTC</td>\n",
       "      <td>alarm</td>\n",
       "      <td>310391585</td>\n",
       "      <td>227946</td>\n",
       "      <td>...</td>\n",
       "      <td>teste valid email</td>\n",
       "      <td>major</td>\n",
       "      <td>515120</td>\n",
       "      <td>https://portal.kentik.com/v4/alerting/search/3...</td>\n",
       "      <td>https://portal.kentik.com/v4/library/dashboard...</td>\n",
       "      <td>https://portal.kentik.com/v4/alerting/a310391585</td>\n",
       "      <td>164.163.192.4</td>\n",
       "      <td>3206989568</td>\n",
       "      <td>283667.65625</td>\n",
       "      <td>89</td>\n",
       "    </tr>\n",
       "  </tbody>\n",
       "</table>\n",
       "<p>1 rows × 22 columns</p>\n",
       "</div>"
      ],
      "text/plain": [
       "   Unnamed: 0 CurrentState                        Description  \\\n",
       "0           0        clear  Alarm for teste valid email Clear   \n",
       "\n",
       "                   EndTime  IsActive PreviousState                StartTime  \\\n",
       "0  2023-10-27 02:13:41 UTC     False         alarm  2023-10-26 22:53:41 UTC   \n",
       "\n",
       "    Type    AlarmID  AlarmPolicyID  ...    AlarmPolicyName AlarmSeverity  \\\n",
       "0  alarm  310391585         227946  ...  teste valid email         major   \n",
       "\n",
       "  AlarmThresholdID                                  AlertingSearchURL  \\\n",
       "0           515120  https://portal.kentik.com/v4/alerting/search/3...   \n",
       "\n",
       "                                   DashboardAlarmURL  \\\n",
       "0  https://portal.kentik.com/v4/library/dashboard...   \n",
       "\n",
       "                                    DetailsAlarmURL         IP_dst  \\\n",
       "0  https://portal.kentik.com/v4/alerting/a310391585  164.163.192.4   \n",
       "\n",
       "         bits       packets  unique_src_ip  \n",
       "0  3206989568  283667.65625             89  \n",
       "\n",
       "[1 rows x 22 columns]"
      ]
     },
     "execution_count": 5,
     "metadata": {},
     "output_type": "execute_result"
    }
   ],
   "source": [
    "pd.read_csv('../src/teste.csv')"
   ]
  },
  {
   "cell_type": "code",
   "execution_count": null,
   "metadata": {},
   "outputs": [],
   "source": [
    "path = '../project_linkbr/output/api_2023-10-27 02:13:44.json'\n",
    "exec = Exec(path=path)"
   ]
  },
  {
   "cell_type": "code",
   "execution_count": null,
   "metadata": {},
   "outputs": [],
   "source": [
    "a = exec.src()"
   ]
  },
  {
   "cell_type": "code",
   "execution_count": null,
   "metadata": {},
   "outputs": [],
   "source": [
    "a"
   ]
  },
  {
   "cell_type": "code",
   "execution_count": null,
   "metadata": {},
   "outputs": [],
   "source": [
    "with open(a, 'r') as f:\n",
    "  data = json.load(f)"
   ]
  },
  {
   "cell_type": "code",
   "execution_count": null,
   "metadata": {},
   "outputs": [],
   "source": [
    "data"
   ]
  }
 ],
 "metadata": {
  "kernelspec": {
   "display_name": "env",
   "language": "python",
   "name": "python3"
  },
  "language_info": {
   "codemirror_mode": {
    "name": "ipython",
    "version": 3
   },
   "file_extension": ".py",
   "mimetype": "text/x-python",
   "name": "python",
   "nbconvert_exporter": "python",
   "pygments_lexer": "ipython3",
   "version": "3.10.0"
  }
 },
 "nbformat": 4,
 "nbformat_minor": 2
}
